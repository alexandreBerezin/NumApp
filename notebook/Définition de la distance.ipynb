{
 "cells": [
  {
   "cell_type": "markdown",
   "id": "40dbf5e3",
   "metadata": {},
   "source": [
    "# Comment définir une distance à partir des P.I. ? \n",
    "\n",
    "## La distance \n",
    "Va permettre de séparer les différentes monnaies par \"similitude\" plus la distance sera faible plus les pièces vont se ressembler \n",
    "\n",
    "$$ distance(img1,img2,param) \\rightarrow score $$ \n",
    "\n"
   ]
  },
  {
   "cell_type": "code",
   "execution_count": 1,
   "id": "c9ebf4a7",
   "metadata": {},
   "outputs": [],
   "source": [
    "%load_ext autoreload\n",
    "%autoreload 2\n",
    "\n",
    "\n",
    "import matplotlib.pyplot as plt\n",
    "import numpy as np\n",
    "import FeaturesExtractor.main as fe\n",
    "\n",
    "\n",
    "plt.rcParams['figure.figsize'] = [10, 5]\n",
    "plt.rcParams['figure.dpi'] = 120\n",
    "\n",
    "import os\n",
    "\n",
    "listeChemin = []\n",
    "\n",
    "basepath = 'data/'\n",
    "for entry in os.listdir(basepath):\n",
    "    if os.path.isfile(os.path.join(basepath, entry)):\n",
    "        listeChemin.append(basepath + entry)\n",
    "        \n",
    "\n",
    "        \n",
    "param = {\n",
    "    \"longeur RBF\":6,\n",
    "    \"nombre features\":200,\n",
    "    \"denoiseTV weight\": 0.2,\n",
    "    \"alpha\": 7,\n",
    "    \"reprojThreshold\":4,\n",
    "}"
   ]
  },
  {
   "cell_type": "code",
   "execution_count": null,
   "id": "2eb9eb8c",
   "metadata": {},
   "outputs": [],
   "source": []
  }
 ],
 "metadata": {
  "kernelspec": {
   "display_name": "Python 3 (ipykernel)",
   "language": "python",
   "name": "python3"
  },
  "language_info": {
   "codemirror_mode": {
    "name": "ipython",
    "version": 3
   },
   "file_extension": ".py",
   "mimetype": "text/x-python",
   "name": "python",
   "nbconvert_exporter": "python",
   "pygments_lexer": "ipython3",
   "version": "3.9.12"
  },
  "latex_envs": {
   "LaTeX_envs_menu_present": true,
   "autoclose": false,
   "autocomplete": true,
   "bibliofile": "biblio.bib",
   "cite_by": "apalike",
   "current_citInitial": 1,
   "eqLabelWithNumbers": true,
   "eqNumInitial": 1,
   "hotkeys": {
    "equation": "Ctrl-E",
    "itemize": "Ctrl-I"
   },
   "labels_anchors": false,
   "latex_user_defs": false,
   "report_style_numbering": false,
   "user_envs_cfg": false
  }
 },
 "nbformat": 4,
 "nbformat_minor": 5
}
