{
 "cells": [
  {
   "cell_type": "code",
   "execution_count": 1,
   "id": "75be4116",
   "metadata": {},
   "outputs": [],
   "source": [
    "%load_ext autoreload\n",
    "%autoreload 2\n",
    "\n",
    "import numpy as np\n",
    "from sklearn.manifold import MDS\n",
    "import matplotlib.pyplot as plt\n",
    "\n",
    "## Ajout du chemin source\n",
    "import os\n",
    "import sys\n",
    "NumAppPath = os.path.abspath('../../NumApp')\n",
    "sys.path.append(NumAppPath)\n",
    "\n",
    "\n",
    "\n",
    "\n",
    "\n",
    "from numApp import getDistanceMatrix,getFeaturesList\n",
    "\n",
    "\n",
    "## Paramètres \n",
    "plt.rcParams[\"figure.figsize\"] = (15,10)"
   ]
  },
  {
   "cell_type": "code",
   "execution_count": 2,
   "id": "72fa4872",
   "metadata": {},
   "outputs": [],
   "source": [
    "param = {\n",
    "    ##### Algo Param\n",
    "    \"longeur RBF\":6,\n",
    "    \"nombre features\":200,\n",
    "    \"denoiseTV weight\": 0.2,\n",
    "    \"alpha\": 7,\n",
    "    \"reprojThreshold\":4,\n",
    "    \n",
    "    \n",
    "    ##### Config param\n",
    "    \"Features Folder\":\"FeaturesTest/\",\n",
    "    \"Data Folder\":\"dataTest\",\n",
    "    \"Multiprocess Pool\":6,\n",
    "        \n",
    "}\n"
   ]
  },
  {
   "cell_type": "code",
   "execution_count": 3,
   "id": "5004f177",
   "metadata": {
    "scrolled": true
   },
   "outputs": [
    {
     "name": "stdout",
     "output_type": "stream",
     "text": [
      "/usr/local/tmp/Stage/NumApp/NumApp/dataTest/10104 Revers.jpg\n",
      "Start pool with 6\n",
      "Calcul feature for 101 Revers\n",
      "Calcul feature for 1118 Revers\n",
      "Calcul feature for 11641 Revers\n",
      "Calcul feature for 12600 Revers\n",
      "Calcul feature for 13244 Revers\n",
      "Calcul feature for 1377 Revers\n",
      "Calcul feature for 12635 Revers\n",
      "Calcul feature for 11715 Revers\n",
      "Calcul feature for 10104 Revers\n",
      "Calcul feature for 13310 Revers\n",
      "Calcul feature for 11281 Revers\n",
      "Calcul feature for 14167 Revers\n",
      "Calcul feature for 10232 Revers\n",
      "Calcul feature for 11557 Revers\n",
      "Calcul feature for 11935 Revers\n",
      "Calcul feature for 13374 Revers\n",
      "Calcul feature for 12835 Revers\n",
      "Calcul feature for 14214 Revers\n",
      "Calcul feature for 10612 Revers\n",
      "Calcul feature for 12467 Revers\n",
      "Calcul feature for 13681 Revers\n",
      "Calcul feature for 11621 Revers\n",
      "Calcul feature for 13124 Revers\n",
      "Calcul feature for 14388 Revers\n",
      "Calcul feature for 14506 Revers\n",
      "Calcul feature for 14659 Revers\n",
      "Calcul feature for 15129 Revers\n",
      "Calcul feature for 16663 Revers\n",
      "Calcul feature for 17688 Revers\n",
      "Calcul feature for 18909 Revers\n",
      "Calcul feature for 14556 ReversCalcul feature for 14883 Revers\n",
      "\n",
      "Calcul feature for 17938 Revers\n",
      "Calcul feature for 16830 Revers\n",
      "Calcul feature for 15953 Revers\n",
      "Calcul feature for 19172 Revers\n",
      "Calcul feature for 18564 Revers\n",
      "Calcul feature for 16176 Revers\n",
      "Calcul feature for 16844 Revers\n",
      "Calcul feature for 14644 Revers\n",
      "Calcul feature for 14990 Revers\n",
      "Calcul feature for 30372 Revers\n",
      "Calcul feature for 17389 Revers\n",
      "Calcul feature for 18856 Revers\n",
      "Calcul feature for 16589 Revers\n",
      "Calcul feature for 14658 Revers\n",
      "Calcul feature for 30444 Revers\n",
      "Calcul feature for 15070 Revers\n",
      "Calcul feature for 30636 Revers\n",
      "\n",
      "Calcul feature for 31820 ReversCalcul feature for 32639 Revers\n",
      "Calcul feature for 33165 Revers\n",
      "Calcul feature for 33961 Revers\n",
      "Calcul feature for 35549 Revers\n",
      "Calcul feature for 30680 Revers\n",
      "Calcul feature for 31835 Revers\n",
      "Calcul feature for 32834 Revers\n",
      "Calcul feature for 33223 Revers\n",
      "Calcul feature for 34437 Revers\n",
      "Calcul feature for 35796 Revers\n",
      "Calcul feature for 31336 Revers\n",
      "Calcul feature for 32020 Revers\n",
      "Calcul feature for 33750 Revers\n",
      "Calcul feature for 34668 Revers\n",
      "Calcul feature for 32998 Revers\n",
      "Calcul feature for 358 Revers\n",
      "Calcul feature for 33154 Revers\n",
      "Calcul feature for 31351 Revers\n",
      "Calcul feature for 35396 Revers\n",
      "Calcul feature for 32144 Revers\n",
      "Calcul feature for 33844 Revers\n",
      "Calcul feature for 36401 Revers\n",
      "Calcul feature for 36848 Revers\n",
      "Calcul feature for 38057 Revers\n",
      "Calcul feature for 40052 Revers\n",
      "Calcul feature for 41277 Revers\n",
      "Calcul feature for 5392 Revers\n",
      "Calcul feature for 6122 Revers\n",
      "Calcul feature for 38595 Revers\n",
      "Calcul feature for 41324 Revers\n",
      "Calcul feature for 40354 Revers\n",
      "Calcul feature for 36955 Revers\n",
      "Calcul feature for 5682 Revers\n",
      "Calcul feature for 39619 Revers\n",
      "Calcul feature for 37312 Revers\n",
      "Calcul feature for 5056 Revers\n",
      "Calcul feature for 40576 Revers\n",
      "Calcul feature for 5991 Revers\n",
      "Calcul feature for 5130 Revers\n",
      "Calcul feature for 40051 Revers\n",
      "Calcul feature for 40922 Revers\n",
      "Calcul feature for 37993 Revers\n",
      "Calcul feature for 6045 Revers\n",
      "Calcul de la matrice de distance ligne par ligne\n",
      "0 / 93\n",
      "1 / 93\n",
      "2 / 93\n",
      "3 / 93\n",
      "4 / 93\n",
      "5 / 93\n",
      "6 / 93\n",
      "7 / 93\n",
      "8 / 93\n",
      "9 / 93\n",
      "10 / 93\n",
      "11 / 93\n",
      "12 / 93\n",
      "13 / 93\n",
      "14 / 93\n",
      "15 / 93\n",
      "16 / 93\n",
      "17 / 93\n",
      "18 / 93\n",
      "19 / 93\n",
      "20 / 93\n",
      "21 / 93\n",
      "22 / 93\n",
      "23 / 93\n",
      "24 / 93\n",
      "25 / 93\n",
      "26 / 93\n",
      "27 / 93\n",
      "28 / 93\n",
      "29 / 93\n",
      "30 / 93\n",
      "31 / 93\n",
      "32 / 93\n",
      "33 / 93\n",
      "34 / 93\n",
      "35 / 93\n",
      "36 / 93\n",
      "37 / 93\n",
      "38 / 93\n",
      "39 / 93\n",
      "40 / 93\n",
      "41 / 93\n",
      "42 / 93\n",
      "43 / 93\n",
      "44 / 93\n",
      "45 / 93\n",
      "46 / 93\n",
      "47 / 93\n",
      "48 / 93\n",
      "49 / 93\n",
      "50 / 93\n",
      "51 / 93\n",
      "52 / 93\n",
      "53 / 93\n",
      "54 / 93\n",
      "55 / 93\n",
      "56 / 93\n",
      "57 / 93\n",
      "58 / 93\n",
      "59 / 93\n",
      "60 / 93\n",
      "61 / 93\n",
      "62 / 93\n",
      "63 / 93\n",
      "64 / 93\n",
      "65 / 93\n",
      "66 / 93\n",
      "67 / 93\n",
      "68 / 93\n",
      "69 / 93\n",
      "70 / 93\n",
      "71 / 93\n",
      "72 / 93\n",
      "73 / 93\n",
      "74 / 93\n",
      "75 / 93\n",
      "76 / 93\n",
      "77 / 93\n",
      "78 / 93\n",
      "79 / 93\n",
      "80 / 93\n",
      "81 / 93\n",
      "82 / 93\n",
      "83 / 93\n",
      "84 / 93\n",
      "85 / 93\n",
      "86 / 93\n",
      "87 / 93\n",
      "88 / 93\n",
      "89 / 93\n",
      "90 / 93\n",
      "91 / 93\n",
      "92 / 93\n"
     ]
    }
   ],
   "source": [
    "D = getDistanceMatrix(param)\n"
   ]
  },
  {
   "cell_type": "code",
   "execution_count": 4,
   "id": "d412e629",
   "metadata": {},
   "outputs": [],
   "source": [
    "np.save(\"DistMatrixTest\",D)"
   ]
  },
  {
   "cell_type": "code",
   "execution_count": 25,
   "id": "43d07a3c",
   "metadata": {},
   "outputs": [
    {
     "data": {
      "text/plain": [
       "<matplotlib.colorbar.Colorbar at 0x1f170d8be20>"
      ]
     },
     "execution_count": 25,
     "metadata": {},
     "output_type": "execute_result"
    },
    {
     "data": {
      "image/png": "[encoded data removed]",
      "text/plain": [
       "<Figure size 1080x720 with 2 Axes>"
      ]
     },
     "metadata": {
      "needs_background": "light"
     },
     "output_type": "display_data"
    }
   ],
   "source": [
    "D = np.load(\"DistMatrixTest.npy\")\n",
    "\n",
    "plt.imshow(D)\n",
    "plt.colorbar()"
   ]
  },
  {
   "cell_type": "markdown",
   "id": "e8b3199e",
   "metadata": {},
   "source": [
    "## Temps de calcul\n",
    "\n"
   ]
  },
  {
   "cell_type": "code",
   "execution_count": 4,
   "id": "1d5c77d3",
   "metadata": {},
   "outputs": [],
   "source": [
    "#####\n",
    "def tempsMin(n:int)-> float:\n",
    "    return 3.9738*10**(-3)*(n*(n-1)/2) + 1.06*n\n",
    "\n",
    "def tempsH(n:int)-> float:\n",
    "    return tempsMin(n)/60"
   ]
  },
  {
   "cell_type": "code",
   "execution_count": 21,
   "id": "6814200d",
   "metadata": {},
   "outputs": [],
   "source": [
    "Nlist = np.linspace(1,1000)\n",
    "tList = np.array(list(map(tempsH,Nlist)))"
   ]
  },
  {
   "cell_type": "code",
   "execution_count": 22,
   "id": "345d28ef",
   "metadata": {},
   "outputs": [
    {
     "data": {
      "text/plain": [
       "Text(0, 0.5, 'temps (h)')"
      ]
     },
     "execution_count": 22,
     "metadata": {},
     "output_type": "execute_result"
    },
    {
     "data": {
      "image/png": "[encoded data removed]",
      "text/plain": [
       "<Figure size 1080x720 with 1 Axes>"
      ]
     },
     "metadata": {
      "needs_background": "light"
     },
     "output_type": "display_data"
    }
   ],
   "source": [
    "plt.plot(Nlist,tList)\n",
    "plt.grid()\n",
    "plt.title(\"temps de Calcul Matrice de Distance\")\n",
    "plt.xlabel(\"nombre de monnaies\")\n",
    "\n",
    "plt.xticks(np.arange(0, max(Nlist)+1, 100))\n",
    "plt.yticks(np.arange(0, max(tList), 5))\n",
    "\n",
    "plt.ylabel(\"temps (h)\")"
   ]
  },
  {
   "cell_type": "code",
   "execution_count": null,
   "id": "ffa2b26c",
   "metadata": {},
   "outputs": [],
   "source": []
  }
 ],
 "metadata": {
  "kernelspec": {
   "display_name": "Python 3 (ipykernel)",
   "language": "python",
   "name": "python3"
  },
  "language_info": {
   "codemirror_mode": {
    "name": "ipython",
    "version": 3
   },
   "file_extension": ".py",
   "mimetype": "text/x-python",
   "name": "python",
   "nbconvert_exporter": "python",
   "pygments_lexer": "ipython3",
   "version": "3.9.12"
  },
  "latex_envs": {
   "LaTeX_envs_menu_present": true,
   "autoclose": false,
   "autocomplete": true,
   "bibliofile": "biblio.bib",
   "cite_by": "apalike",
   "current_citInitial": 1,
   "eqLabelWithNumbers": true,
   "eqNumInitial": 1,
   "hotkeys": {
    "equation": "Ctrl-E",
    "itemize": "Ctrl-I"
   },
   "labels_anchors": false,
   "latex_user_defs": false,
   "report_style_numbering": false,
   "user_envs_cfg": false
  }
 },
 "nbformat": 4,
 "nbformat_minor": 5
}
