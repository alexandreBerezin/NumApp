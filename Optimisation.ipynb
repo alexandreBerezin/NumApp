{
 "cells": [
  {
   "cell_type": "markdown",
   "id": "b82ac59d",
   "metadata": {},
   "source": [
    "# Problème de complexité \n",
    "## Fonction kernel.covWithX($\\xi$)\n",
    "\n",
    "C'est une fonction qui renvoie un vecteur de covariance entre tous les pixels $x_i$ et un pixel $\\xi$\n",
    "\n",
    "return : \n",
    "$$\n",
    "\\begin{pmatrix}\n",
    "  k^{\\omega}(x_1,\\xi) \\\\\n",
    "  k^{\\omega}(x_2,\\xi) \\\\\n",
    "  \\vdots \\\\\n",
    "  k^{\\omega}(x_N,\\xi) \\\\\n",
    "\\end{pmatrix}\n",
    "$$\n",
    "\n",
    "Avec $N$ le nombre de pixels ici $N = 350^2 = 122500 $\n",
    "\n",
    "### fonction $k^{\\omega}(\\alpha,\\beta)$\n",
    "\n",
    "$\\alpha$ et $\\beta$ des pixels\n",
    "\n",
    "$$ k^{\\omega}(\\alpha,\\beta) = \\sum_{i=1}^{N}{k(\\alpha,x_i)\\omega(x_i)k(x_i,\\beta)}$$\n",
    "\n",
    "### fonction $k$ : RBF Kernel\n",
    "\n",
    "$$ k(x,y) = e^{-d(x,y)^2/(2l^2)} $$"
   ]
  },
  {
   "cell_type": "markdown",
   "id": "61ee4d10",
   "metadata": {},
   "source": [
    "###  calculer la matrice de covariance K ? \n",
    "\n",
    "$$ (K)_{i,j} = e^{-d(x,y)^2/(2l^2)} $$\n",
    "\n",
    "matrice symmétrique --> On calcule uniqment la moitié\n",
    "l petit $\\approx$ 5pixel --> k(x,y) très faible quand les deux pixels sont éloignées\n",
    "\n",
    "#### Idée \n",
    "- Calculer la motié de K \n",
    "- en approximant $k(x,y) = 0$ si $d(x,y) > r$  avec $r$ un rayon limite \n",
    "- enregistrer la matrice avec matrix.sparce de scipy \n",
    "\n"
   ]
  },
  {
   "cell_type": "code",
   "execution_count": 60,
   "id": "0d60a3f3",
   "metadata": {},
   "outputs": [],
   "source": [
    "from FeaturesExtractor.misc import *\n",
    "import numpy as np\n",
    "import matplotlib.pyplot as plt\n",
    "\n",
    "#Image aléatoire\n",
    "l_side = 350\n",
    "N = l_side*l_side\n",
    "img = np.random.randn(l_side,l_side)\n",
    "\n",
    "#Vecteur des coordonnées\n",
    "Xvec = XVecFromArray(img)"
   ]
  },
  {
   "cell_type": "code",
   "execution_count": 61,
   "id": "c50e41ed",
   "metadata": {},
   "outputs": [],
   "source": [
    "def RBF(a:np.ndarray,b:np.ndarray,l:float,threshold:float):\n",
    "    xa,ya = a\n",
    "    xb,yb = b\n",
    "    d2 = (xa-xb)**2 + (ya-yb)**2\n",
    "    return np.exp(-d2/(2*l**2))\n",
    "    "
   ]
  },
  {
   "cell_type": "code",
   "execution_count": 82,
   "id": "45afe6fc",
   "metadata": {},
   "outputs": [
    {
     "name": "stdout",
     "output_type": "stream",
     "text": [
      "0.0\n"
     ]
    }
   ],
   "source": [
    "## TEST RBF\n",
    "x = np.array([0,0])\n",
    "y = np.array([40,20])\n",
    "l = 1\n",
    "threshold = 0\n",
    "\n",
    "print(RBF(x,y,l,threshold))\n"
   ]
  },
  {
   "cell_type": "code",
   "execution_count": 65,
   "id": "eb2ac65e",
   "metadata": {},
   "outputs": [],
   "source": [
    "from scipy import sparse as s\n",
    "import time\n",
    "\n",
    "#Creation de la matrice\n",
    "M = s.lil_matrix((N,N))\n",
    "\n",
    "#print(M.toarray())\n",
    "#Unable to allocate 125. GiB for an array with shape (129600, 129600) and data type float64\n"
   ]
  },
  {
   "cell_type": "code",
   "execution_count": 78,
   "id": "b48be612",
   "metadata": {},
   "outputs": [],
   "source": [
    "l = 1\n",
    "threshold = 0\n",
    "\n",
    "l_side = 120\n",
    "N = l_side*l_side\n",
    "M = s.lil_matrix((N,N))\n",
    "\n",
    "\n",
    "start = time.time()\n",
    "for i in range(N):\n",
    "    for j in range(i,N):\n",
    "        x = Xvec[i]\n",
    "        y = Xvec[j]\n",
    "        M[i,j] = RBF(x,y,l,threshold)\n",
    "                \n",
    "dt = time.time() -start\n",
    "        "
   ]
  },
  {
   "cell_type": "code",
   "execution_count": 79,
   "id": "079c9714",
   "metadata": {},
   "outputs": [
    {
     "name": "stdout",
     "output_type": "stream",
     "text": [
      "l_side:  120\n",
      "taille:  115200\n",
      "temps :  648.013454914093\n"
     ]
    }
   ],
   "source": [
    "print(\"l_side: \",l_side)\n",
    "print(\"taille: \",M.data.nbytes)\n",
    "print(\"temps : \",dt)"
   ]
  },
  {
   "cell_type": "code",
   "execution_count": 97,
   "id": "f581f505",
   "metadata": {},
   "outputs": [
    {
     "name": "stdout",
     "output_type": "stream",
     "text": [
      "[0.036027 2.15065 ]\n"
     ]
    }
   ],
   "source": [
    "A = np.array([[100,1],\n",
    "             [120,1]])\n",
    "B = np.array([5.75335,6.47389])\n",
    "\n",
    "X = np.linalg.solve(A,B)\n",
    "print(X)"
   ]
  },
  {
   "cell_type": "code",
   "execution_count": 98,
   "id": "1a566a7b",
   "metadata": {},
   "outputs": [
    {
     "name": "stdout",
     "output_type": "stream",
     "text": [
      "0.03602699999999999 2.150650000000001\n"
     ]
    }
   ],
   "source": [
    "a = X[0]\n",
    "b = X[1]\n",
    "print(a,b)"
   ]
  },
  {
   "cell_type": "code",
   "execution_count": 100,
   "id": "b883f8a6",
   "metadata": {},
   "outputs": [
    {
     "data": {
      "image/png": "[encoded data removed]",
      "text/plain": [
       "<Figure size 432x288 with 1 Axes>"
      ]
     },
     "metadata": {
      "needs_background": "light"
     },
     "output_type": "display_data"
    }
   ],
   "source": [
    "L_x = np.linspace(40,360,100)\n",
    "Y = np.exp(b)*np.exp(L_x*a)\n",
    "\n",
    "plt.plot(L_x,Y)\n",
    "plt.grid()\n",
    "plt.show()"
   ]
  },
  {
   "cell_type": "code",
   "execution_count": null,
   "id": "7a7ea9ec",
   "metadata": {},
   "outputs": [],
   "source": []
  }
 ],
 "metadata": {
  "kernelspec": {
   "display_name": "Python 3 (ipykernel)",
   "language": "python",
   "name": "python3"
  },
  "language_info": {
   "codemirror_mode": {
    "name": "ipython",
    "version": 3
   },
   "file_extension": ".py",
   "mimetype": "text/x-python",
   "name": "python",
   "nbconvert_exporter": "python",
   "pygments_lexer": "ipython3",
   "version": "3.10.4"
  },
  "latex_envs": {
   "LaTeX_envs_menu_present": true,
   "autoclose": false,
   "autocomplete": true,
   "bibliofile": "biblio.bib",
   "cite_by": "apalike",
   "current_citInitial": 1,
   "eqLabelWithNumbers": true,
   "eqNumInitial": 1,
   "hotkeys": {
    "equation": "Ctrl-E",
    "itemize": "Ctrl-I"
   },
   "labels_anchors": false,
   "latex_user_defs": false,
   "report_style_numbering": false,
   "user_envs_cfg": false
  }
 },
 "nbformat": 4,
 "nbformat_minor": 5
}
