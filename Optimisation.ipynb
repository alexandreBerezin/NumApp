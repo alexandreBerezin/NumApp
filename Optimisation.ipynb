{
 "cells": [
  {
   "cell_type": "markdown",
   "id": "b82ac59d",
   "metadata": {},
   "source": [
    "# Problème de complexité \n",
    "## Fonction kernel.covWithX($\\xi$)\n",
    "\n",
    "C'est une fonction qui renvoie un vecteur de covariance entre tous les pixels $x_i$ et un pixel $\\xi$\n",
    "\n",
    "return : \n",
    "$$\n",
    "\\begin{pmatrix}\n",
    "  k^{\\omega}(x_1,\\xi) \\\\\n",
    "  k^{\\omega}(x_2,\\xi) \\\\\n",
    "  \\vdots \\\\\n",
    "  k^{\\omega}(x_N,\\xi) \\\\\n",
    "\\end{pmatrix}\n",
    "$$\n",
    "\n",
    "Avec $N$ le nombre de pixels ici $N = 350^2 = 122500 $\n",
    "\n",
    "### fonction $k^{\\omega}(\\alpha,\\beta)$\n",
    "\n",
    "$\\alpha$ et $\\beta$ des pixels\n",
    "\n",
    "$$ k^{\\omega}(\\alpha,\\beta) = \\sum_{i=1}^{N}{k(\\alpha,x_i)\\omega(x_i)k(x_i,\\beta)}$$\n",
    "\n",
    "### fonction $k$ : RBF Kernel\n",
    "\n",
    "$$ k(x,y) = e^{-d(x,y)^2/(2l^2)} $$"
   ]
  },
  {
   "cell_type": "markdown",
   "id": "61ee4d10",
   "metadata": {},
   "source": [
    "###  calculer la matrice de covariance K ? \n",
    "\n",
    "$$ (K)_{i,j} = e^{-d(x,y)^2/(2l^2)} $$\n",
    "\n",
    "matrice symmétrique --> On calcule uniqment la moitié\n",
    "l petit $\\approx$ 5pixel --> k(x,y) très faible quand les deux pixels sont éloignées\n",
    "\n",
    "#### Idée \n",
    "- Calculer la motié de K \n",
    "- en approximant $k(x,y) = 0$ si $d(x,y) > r$  avec $r$ un rayon limite \n",
    "- enregistrer la matrice avec matrix.sparce de scipy \n",
    "\n"
   ]
  },
  {
   "cell_type": "code",
   "execution_count": null,
   "id": "0d60a3f3",
   "metadata": {},
   "outputs": [],
   "source": []
  }
 ],
 "metadata": {
  "kernelspec": {
   "display_name": "Python 3 (ipykernel)",
   "language": "python",
   "name": "python3"
  },
  "language_info": {
   "codemirror_mode": {
    "name": "ipython",
    "version": 3
   },
   "file_extension": ".py",
   "mimetype": "text/x-python",
   "name": "python",
   "nbconvert_exporter": "python",
   "pygments_lexer": "ipython3",
   "version": "3.9.12"
  },
  "latex_envs": {
   "LaTeX_envs_menu_present": true,
   "autoclose": false,
   "autocomplete": true,
   "bibliofile": "biblio.bib",
   "cite_by": "apalike",
   "current_citInitial": 1,
   "eqLabelWithNumbers": true,
   "eqNumInitial": 1,
   "hotkeys": {
    "equation": "Ctrl-E",
    "itemize": "Ctrl-I"
   },
   "labels_anchors": false,
   "latex_user_defs": false,
   "report_style_numbering": false,
   "user_envs_cfg": false
  }
 },
 "nbformat": 4,
 "nbformat_minor": 5
}
