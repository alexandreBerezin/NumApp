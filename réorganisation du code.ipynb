{
 "cells": [
  {
   "cell_type": "code",
   "execution_count": 1,
   "id": "9d5ec568",
   "metadata": {},
   "outputs": [],
   "source": [
    "\n",
    "%load_ext autoreload\n",
    "%autoreload 2\n",
    "\n",
    "\n",
    "import matplotlib.pyplot as plt\n",
    "import numpy as np\n",
    "import cv2\n",
    "\n",
    "\n",
    "import FeaturesExtractor.main as fe\n",
    "from FeatureMatching.distance import getNbAndP,getFilteredMatch\n",
    "from ImageProcessing.processing import cropToCoin\n",
    "\n",
    "\n",
    "plt.rcParams['figure.figsize'] = [10, 5]\n",
    "plt.rcParams['figure.dpi'] = 120\n",
    "\n"
   ]
  },
  {
   "cell_type": "code",
   "execution_count": 2,
   "id": "f4d58505",
   "metadata": {},
   "outputs": [],
   "source": [
    "param = {\n",
    "    \"longeur caractéristique du RBF\":7,\n",
    "    \"nombre de points d'interêts\":100,\n",
    "}\n",
    "\n",
    "path1 = \"data/5862 Droit.jpg\"\n",
    "path2 = \"data/13001 Droit.jpg\""
   ]
  },
  {
   "cell_type": "code",
   "execution_count": 3,
   "id": "1233f7ee",
   "metadata": {},
   "outputs": [],
   "source": [
    "[img1,features1] = fe.getFeatures(param,path1)\n",
    "[img2,features2] = fe.getFeatures(param,path2)\n",
    "\n"
   ]
  },
  {
   "cell_type": "code",
   "execution_count": 4,
   "id": "7c6d61a6",
   "metadata": {},
   "outputs": [],
   "source": [
    "kp1,kp2,match = getFilteredMatch(img1,features1,img2,features2)\n"
   ]
  },
  {
   "cell_type": "code",
   "execution_count": 5,
   "id": "5e340f57",
   "metadata": {},
   "outputs": [],
   "source": [
    "[nb,p] = getNbAndP(kp1,kp2,match)"
   ]
  },
  {
   "cell_type": "code",
   "execution_count": 6,
   "id": "597a18b6",
   "metadata": {},
   "outputs": [],
   "source": [
    "d = nb-p"
   ]
  },
  {
   "cell_type": "code",
   "execution_count": 7,
   "id": "3a020b14",
   "metadata": {},
   "outputs": [
    {
     "data": {
      "text/plain": [
       "5.138040288292356"
      ]
     },
     "execution_count": 7,
     "metadata": {},
     "output_type": "execute_result"
    }
   ],
   "source": [
    "d"
   ]
  },
  {
   "cell_type": "code",
   "execution_count": 8,
   "id": "90b48ea9",
   "metadata": {},
   "outputs": [],
   "source": [
    "from numApp import getDistance, getDistanceMatrix"
   ]
  },
  {
   "cell_type": "code",
   "execution_count": 9,
   "id": "103f9c01",
   "metadata": {},
   "outputs": [
    {
     "name": "stdout",
     "output_type": "stream",
     "text": [
      "-5.138040288292356\n"
     ]
    }
   ],
   "source": [
    "print(getDistance(param,path1,path2))"
   ]
  },
  {
   "cell_type": "code",
   "execution_count": 10,
   "id": "042eb3be",
   "metadata": {},
   "outputs": [
    {
     "name": "stdout",
     "output_type": "stream",
     "text": [
      "14\n"
     ]
    }
   ],
   "source": [
    "import os\n",
    "\n",
    "listeChemin = []\n",
    "\n",
    "basepath = 'data/'\n",
    "for entry in os.listdir(basepath):\n",
    "    if os.path.isfile(os.path.join(basepath, entry)):\n",
    "        listeChemin.append(basepath + entry)\n",
    "        \n",
    "pathList = listeChemin[:]\n",
    "print(len(pathList))"
   ]
  },
  {
   "cell_type": "code",
   "execution_count": 11,
   "id": "8dbc5890",
   "metadata": {},
   "outputs": [
    {
     "data": {
      "text/plain": [
       "['data/5862 Droit.jpg',\n",
       " 'data/13001 Droit.jpg',\n",
       " 'data/13088 Droit.jpg',\n",
       " 'data/14259 Droit.jpg',\n",
       " 'data/15242 Droit.jpg',\n",
       " 'data/17217 Droit.jpg',\n",
       " 'data/19143 Droit.jpg',\n",
       " 'data/34268 Droit.jpg',\n",
       " 'data/38325 Droit.jpg',\n",
       " 'data/39630 Droit.jpg',\n",
       " 'data/39631 Droit.jpg',\n",
       " 'data/33555 Droit.jpg',\n",
       " 'data/35362 Droit.jpg',\n",
       " 'data/36419 Droit.jpg']"
      ]
     },
     "execution_count": 11,
     "metadata": {},
     "output_type": "execute_result"
    }
   ],
   "source": [
    "pathList"
   ]
  },
  {
   "cell_type": "code",
   "execution_count": 12,
   "id": "fedc8bc4",
   "metadata": {},
   "outputs": [],
   "source": [
    "D = getDistanceMatrix(param,pathList)"
   ]
  },
  {
   "cell_type": "code",
   "execution_count": 13,
   "id": "a5119a19",
   "metadata": {},
   "outputs": [
    {
     "data": {
      "image/png": "[encoded data removed]",
      "text/plain": [
       "<Figure size 1200x600 with 2 Axes>"
      ]
     },
     "metadata": {
      "needs_background": "light"
     },
     "output_type": "display_data"
    }
   ],
   "source": [
    "plt.imshow(D,cmap=\"jet\")\n",
    "plt.colorbar()\n",
    "plt.show()"
   ]
  },
  {
   "cell_type": "code",
   "execution_count": 14,
   "id": "393ec35e",
   "metadata": {},
   "outputs": [],
   "source": [
    "ListeCoin= np.array([\n",
    "    [9,1],\n",
    "    [13,12]\n",
    "])\n"
   ]
  },
  {
   "cell_type": "code",
   "execution_count": 15,
   "id": "6b1d4c34",
   "metadata": {},
   "outputs": [
    {
     "name": "stdout",
     "output_type": "stream",
     "text": [
      "data/39630 Droit.jpg  Avec  data/13001 Droit.jpg\n",
      "data/36419 Droit.jpg  Avec  data/35362 Droit.jpg\n"
     ]
    }
   ],
   "source": [
    "for ensemble in ListeCoin:\n",
    "    out = pathList[ensemble[0]] + \"  Avec  \" + pathList[ensemble[1]]\n",
    "    print(out)"
   ]
  },
  {
   "cell_type": "code",
   "execution_count": 16,
   "id": "d770f52b",
   "metadata": {},
   "outputs": [
    {
     "name": "stdout",
     "output_type": "stream",
     "text": [
      "-9.997972757613235\n",
      "-17.99905639436986\n"
     ]
    }
   ],
   "source": [
    "for ensemble in ListeCoin:\n",
    "    print(D[tuple(ensemble)])"
   ]
  },
  {
   "cell_type": "code",
   "execution_count": 18,
   "id": "d8e974ac",
   "metadata": {},
   "outputs": [],
   "source": [
    "n,b = np.shape(D)"
   ]
  },
  {
   "cell_type": "code",
   "execution_count": 19,
   "id": "97679cb2",
   "metadata": {},
   "outputs": [
    {
     "data": {
      "text/plain": [
       "14"
      ]
     },
     "execution_count": 19,
     "metadata": {},
     "output_type": "execute_result"
    }
   ],
   "source": [
    "n"
   ]
  },
  {
   "cell_type": "code",
   "execution_count": 20,
   "id": "69ef517a",
   "metadata": {},
   "outputs": [],
   "source": [
    "sumTot = np.nansum(D)\n",
    "nbTot = int(n*(n-1)/2)"
   ]
  },
  {
   "cell_type": "code",
   "execution_count": 23,
   "id": "26a60bb0",
   "metadata": {},
   "outputs": [],
   "source": [
    "nbCoin,b = np.shape(ListeCoin)"
   ]
  },
  {
   "cell_type": "code",
   "execution_count": 24,
   "id": "8838d65d",
   "metadata": {},
   "outputs": [
    {
     "data": {
      "text/plain": [
       "2"
      ]
     },
     "execution_count": 24,
     "metadata": {},
     "output_type": "execute_result"
    }
   ],
   "source": [
    "nbCoin"
   ]
  },
  {
   "cell_type": "code",
   "execution_count": 25,
   "id": "a6659293",
   "metadata": {},
   "outputs": [],
   "source": [
    "sumDistCoin = 0\n",
    "for ensemble in ListeCoin:\n",
    "    sumDistCoin = sumDistCoin + D[tuple(ensemble)]\n",
    "    "
   ]
  },
  {
   "cell_type": "code",
   "execution_count": 26,
   "id": "64b0924d",
   "metadata": {},
   "outputs": [
    {
     "name": "stdout",
     "output_type": "stream",
     "text": [
      "-27.997029151983092\n"
     ]
    }
   ],
   "source": [
    "print(sumDistCoin)"
   ]
  },
  {
   "cell_type": "code",
   "execution_count": 27,
   "id": "2b34460b",
   "metadata": {},
   "outputs": [],
   "source": [
    "moyenneDistCoin = sumDistCoin/nbCoin\n",
    "moyenneDistAutre = (sumTot-sumDistCoin)/(nbTot-nbCoin)"
   ]
  },
  {
   "cell_type": "code",
   "execution_count": 28,
   "id": "3108ce80",
   "metadata": {},
   "outputs": [
    {
     "name": "stdout",
     "output_type": "stream",
     "text": [
      "-13.998514575991546\n",
      "-4.972543886859544\n"
     ]
    }
   ],
   "source": [
    "print(moyenneDistCoin)\n",
    "print(moyenneDistAutre)"
   ]
  },
  {
   "cell_type": "code",
   "execution_count": null,
   "id": "06d8ba2b",
   "metadata": {},
   "outputs": [],
   "source": []
  }
 ],
 "metadata": {
  "kernelspec": {
   "display_name": "Python 3 (ipykernel)",
   "language": "python",
   "name": "python3"
  },
  "language_info": {
   "codemirror_mode": {
    "name": "ipython",
    "version": 3
   },
   "file_extension": ".py",
   "mimetype": "text/x-python",
   "name": "python",
   "nbconvert_exporter": "python",
   "pygments_lexer": "ipython3",
   "version": "3.10.4"
  }
 },
 "nbformat": 4,
 "nbformat_minor": 5
}
